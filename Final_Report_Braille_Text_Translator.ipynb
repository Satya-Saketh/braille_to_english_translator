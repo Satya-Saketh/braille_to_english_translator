{
  "cells": [
    {
      "cell_type": "markdown",
      "id": "3406a4ff",
      "metadata": {
        "id": "3406a4ff"
      },
      "source": [
        "### Importing required libraries"
      ]
    },
    {
      "cell_type": "code",
      "execution_count": null,
      "id": "58970cc3",
      "metadata": {
        "id": "58970cc3"
      },
      "outputs": [],
      "source": [
        "# Imported libraries\n",
        "import numpy as np\n",
        "import imageio\n",
        "import scipy\n",
        "import scipy.ndimage\n",
        "import sys\n",
        "import matplotlib.pyplot as plt\n",
        "from skimage import morphology\n",
        "from PIL import Image\n",
        "from IPython.display import Image as Image2"
      ]
    },
    {
      "cell_type": "markdown",
      "id": "93fc8e4d",
      "metadata": {
        "id": "93fc8e4d"
      },
      "source": [
        "### Generating a Braille Image\n",
        "Given an input sentence, and with the help of the dictionary, the code generates an image containing the sentence in the Braille system."
      ]
    },
    {
      "cell_type": "code",
      "execution_count": null,
      "id": "f3e8f04e",
      "metadata": {
        "id": "f3e8f04e"
      },
      "outputs": [],
      "source": [
        "# Function that generates a braille image\n",
        "def generate_braille_image(word):\n",
        "    letters = [Image.open(x) for x in ['/content/a.png', '/content/b.png', '/content/c.png', '/content/d.png',\n",
        "                                       '/content/e.png', '/content/f.png', '/content/g.png', '/content/h.png',\n",
        "                                       '/content/i.png', '/content/j.png', '/content/k.png', '/content/l.png',\n",
        "                                       '/content/m.png', '/content/n.png', '/content/o.png', '/content/p.png',\n",
        "                                       '/content/q.png', '/content/r.png', '/content/s.png', '/content/t.png',\n",
        "                                       '/content/u.png', '/content/v.png', '/content/w.png', '/content/x.png',\n",
        "                                       '/content/y.png', '/content/z.png', '/content/_space.png'\n",
        "                                      ]]\n",
        "\n",
        "    images = []\n",
        "    for letter in word:\n",
        "        if letter != ' ':\n",
        "            images.append(letters[ord(letter)-ord('a')])\n",
        "        else: images.append(letters[26])\n",
        "    widths, heights = zip(*(i.size for i in images))\n",
        "\n",
        "    total_width = sum(widths)\n",
        "    max_height = max(heights)\n",
        "\n",
        "    new_im = Image.new('RGB', (total_width, max_height))\n",
        "\n",
        "    x_offset = 0\n",
        "    for im in images:\n",
        "      new_im.paste(im, (x_offset,0))\n",
        "      x_offset += im.size[0]\n",
        "\n",
        "    word_chunks = word.split(' ')\n",
        "    img_name = word_chunks[0] +'.png'\n",
        "    new_im.save(img_name)\n",
        "\n",
        "    return img_name"
      ]
    },
    {
      "cell_type": "code",
      "source": [
        "img_name5 = generate_braille_image(\"Sunil Kumar Sir \")"
      ],
      "metadata": {
        "id": "KCSaG3sKMvg6"
      },
      "id": "KCSaG3sKMvg6",
      "execution_count": null,
      "outputs": []
    },
    {
      "cell_type": "code",
      "source": [
        "Image2(filename=img_name5)"
      ],
      "metadata": {
        "id": "ctLH2YGwOcdS",
        "colab": {
          "base_uri": "https://localhost:8080/",
          "height": 71
        },
        "outputId": "63bbfb2e-a744-482a-84be-242ebef59e40"
      },
      "id": "ctLH2YGwOcdS",
      "execution_count": null,
      "outputs": [
        {
          "output_type": "execute_result",
          "data": {
            "image/png": "[encoded data removed]",
            "text/plain": [
              "<IPython.core.display.Image object>"
            ]
          },
          "metadata": {},
          "execution_count": 16
        }
      ]
    },
    {
      "cell_type": "markdown",
      "id": "e042f67d",
      "metadata": {
        "id": "e042f67d"
      },
      "source": [
        "###  Preprocessing and quantisation\n",
        "After performing the image generation, we will transform the image to grayscale using the Luminance method. Afterwards, as the image has only two colors, black and white, we will quantize the image to use only 1 bit, which will help us to make subsequent calculations more efficient. Finally, we apply the closing function."
      ]
    },
    {
      "cell_type": "markdown",
      "id": "96a6782e",
      "metadata": {
        "id": "96a6782e"
      },
      "source": [
        "#### Function declarations"
      ]
    },
    {
      "cell_type": "code",
      "execution_count": null,
      "id": "5dc99d92",
      "metadata": {
        "id": "5dc99d92"
      },
      "outputs": [],
      "source": [
        "# Function that generates a image just with shades of gray, applying weights in each RGB component based on\n",
        "# Luminance technique\n",
        "def To_grayscale(img):\n",
        "    imgA = np.floor(img[:,:,0] * 0.299 + img[:,:,1] * 0.587 + img[:,:,2] * 0.114)\n",
        "    imgA = imgA.astype('uint8')\n",
        "    return imgA"
      ]
    },
    {
      "cell_type": "code",
      "execution_count": null,
      "id": "577ecd56",
      "metadata": {
        "id": "577ecd56"
      },
      "outputs": [],
      "source": [
        "# Function that generates a image with scale values in interval [0, (2^b)-1]\n",
        "def Quantisation (img, b):\n",
        "    img = np.right_shift(img, 8-b)\n",
        "    return img"
      ]
    },
    {
      "cell_type": "code",
      "execution_count": null,
      "id": "c4e781a7",
      "metadata": {
        "id": "c4e781a7"
      },
      "outputs": [],
      "source": [
        "# Function that calls grayscale and quantisation and apply closing with a disk of 4, generating a result image\n",
        "def applying_filters(img, bits):\n",
        "    img = To_grayscale(img)\n",
        "    img = Quantisation(img, bits)\n",
        "    img = morphology.closing(img, morphology.disk(4)).astype(np.uint8)\n",
        "    return img"
      ]
    },
    {
      "cell_type": "markdown",
      "id": "237c12d5",
      "metadata": {
        "id": "237c12d5"
      },
      "source": [
        "#### Reading and applying the functions on the image"
      ]
    },
    {
      "cell_type": "code",
      "execution_count": null,
      "id": "d06b31b1",
      "metadata": {
        "id": "d06b31b1",
        "colab": {
          "base_uri": "https://localhost:8080/"
        },
        "outputId": "d1d3f09e-bcb9-4b59-cbb5-9893bf9c963a"
      },
      "outputs": [
        {
          "name": "stdout",
          "output_type": "stream",
          "text": [
            " - Enter 0 if you want to use an image already available in our database (under \"images/...\")\n",
            " - Enter 1 if you want to generate the image with our braille text generator\n",
            "Sunil Kumar Sir\n",
            "Try again\n",
            "sunil kumar sir\n",
            "Try again\n",
            "1\n",
            "Type a word or sentence to create braille image.\n",
            "Sunil Kumar Sir\n"
          ]
        },
        {
          "output_type": "stream",
          "name": "stderr",
          "text": [
            "<ipython-input-20-dd622d951d45>:22: DeprecationWarning: Starting with ImageIO v3 the behavior of this function will switch to that of iio.v3.imread. To keep the current behavior (and make this warning disappear) use `import imageio.v2 as imageio` or call `imageio.v2.imread` directly.\n",
            "  img_b = imageio.imread(img_name)\n"
          ]
        }
      ],
      "source": [
        "# Menu of options\n",
        "print(\" - Enter 0 if you want to use an image already available in our database (under \\\"images/...\\\")\")\n",
        "print(\" - Enter 1 if you want to generate the image with our braille text generator\")\n",
        "\n",
        "function = input()\n",
        "menu = False\n",
        "\n",
        "while(menu == False):\n",
        "    if function == '0':\n",
        "        img_name = input().rstrip() # read reference image's name\n",
        "        menu = True\n",
        "    elif function == '1':\n",
        "        print(\"Type a word or sentence to create braille image.\")\n",
        "        word = input().rstrip()\n",
        "        img_name = generate_braille_image(word)\n",
        "        menu = True\n",
        "    else:\n",
        "        print(\"Try again\")\n",
        "        function = input()\n",
        "\n",
        "\n",
        "img_b = imageio.imread(img_name)\n",
        "img = applying_filters(img_b, 1)"
      ]
    },
    {
      "cell_type": "code",
      "execution_count": null,
      "id": "9831f868",
      "metadata": {
        "scrolled": true,
        "id": "9831f868",
        "colab": {
          "base_uri": "https://localhost:8080/",
          "height": 432
        },
        "outputId": "15973c40-927f-451b-ecdf-28171a921bb0"
      },
      "outputs": [
        {
          "output_type": "display_data",
          "data": {
            "text/plain": [
              "<Figure size 1300x700 with 2 Axes>"
            ],
            "image/png": "[encoded data removed]"
          },
          "metadata": {}
        }
      ],
      "source": [
        "# Let's show the difference and importance of applying pre-processing\n",
        "f, axarr = plt.subplots(2, 1)\n",
        "f.set_size_inches(13, 7)\n",
        "axarr[0].imshow(img_b, cmap=\"gray\", vmin=0, vmax=255)\n",
        "axarr[1].imshow(img, cmap=\"gray\", vmin=0, vmax=1)\n",
        "plt.show()"
      ]
    },
    {
      "cell_type": "markdown",
      "id": "11b4ea67",
      "metadata": {
        "id": "11b4ea67"
      },
      "source": [
        "### Applying the functions to the reference points\n",
        "\n",
        "To identify each letter, we will use two reference images: one representing the left dots of each Braille letter, and one representing the right dots. For this, we will read both and apply the same functions that we applied to the image that contains the sentence."
      ]
    },
    {
      "cell_type": "code",
      "execution_count": null,
      "id": "f341e4da",
      "metadata": {
        "id": "f341e4da",
        "colab": {
          "base_uri": "https://localhost:8080/"
        },
        "outputId": "a7225654-b58f-47d1-ee36-657ece22f373"
      },
      "outputs": [
        {
          "output_type": "stream",
          "name": "stderr",
          "text": [
            "<ipython-input-22-18d341aa8f39>:2: DeprecationWarning: Starting with ImageIO v3 the behavior of this function will switch to that of iio.v3.imread. To keep the current behavior (and make this warning disappear) use `import imageio.v2 as imageio` or call `imageio.v2.imread` directly.\n",
            "  dot_left_b = imageio.imread(\"/content/_left_dot.png\")\n",
            "<ipython-input-22-18d341aa8f39>:3: DeprecationWarning: Starting with ImageIO v3 the behavior of this function will switch to that of iio.v3.imread. To keep the current behavior (and make this warning disappear) use `import imageio.v2 as imageio` or call `imageio.v2.imread` directly.\n",
            "  dot_right_b = imageio.imread(\"/content/_right_dot.png\")\n"
          ]
        }
      ],
      "source": [
        "# Reading and pre-processing another important part of our work: the dot symbol\n",
        "dot_left_b = imageio.imread(\"/content/_left_dot.png\")\n",
        "dot_right_b = imageio.imread(\"/content/_right_dot.png\")\n",
        "\n",
        "dot_left = applying_filters(dot_left_b, 1)\n",
        "dot_right = applying_filters(dot_right_b, 1)"
      ]
    },
    {
      "cell_type": "code",
      "execution_count": null,
      "id": "9a0f919e",
      "metadata": {
        "scrolled": false,
        "id": "9a0f919e",
        "colab": {
          "base_uri": "https://localhost:8080/",
          "height": 676
        },
        "outputId": "52f5905f-25da-43bb-ef3b-ea02ac8985da"
      },
      "outputs": [
        {
          "output_type": "display_data",
          "data": {
            "text/plain": [
              "<Figure size 1800x800 with 2 Axes>"
            ],
            "image/png": "[encoded data removed]"
          },
          "metadata": {}
        }
      ],
      "source": [
        "f, axarr = plt.subplots(2, 1)\n",
        "f.set_size_inches(18, 8)\n",
        "axarr[0].imshow(dot_left, cmap=\"gray\", vmin=0, vmax=1)\n",
        "axarr[1].imshow(dot_right, cmap=\"gray\", vmin=0, vmax=1)\n",
        "plt.show()"
      ]
    },
    {
      "cell_type": "markdown",
      "id": "fc3cfe2f",
      "metadata": {
        "id": "fc3cfe2f"
      },
      "source": [
        "### Dividing the image into blocks\n",
        "We know that each letter is $50px$ wide, and that the image width is $M$. So, we will split our image into $\\frac{M}{50}$ blocks (where each block will represent a letter). As each Braille letter is represented by up to 6 dots, we will divide each letter into 6 smaller blocks, each one having a place that can have a dot. So, in total, we will have $\\frac{(6M)}{50}$ windows that will be compared with the *dot_left* and *dot_right* images.\n",
        "\n",
        "![title](images/letter_value.png)"
      ]
    },
    {
      "cell_type": "code",
      "execution_count": null,
      "id": "25e7c210",
      "metadata": {
        "id": "25e7c210"
      },
      "outputs": [],
      "source": [
        "# Function that creates 6 windows, separating each dot region\n",
        "def letter_representation(img, bits):\n",
        "\n",
        "    N,M = img.shape\n",
        "    windows = np.empty((int(M/50)*6, 18, 25))\n",
        "\n",
        "    a = 0\n",
        "    for i in range (0, M-1, 50): # creating windows\n",
        "            temp_wind = img[:,i:i+50]\n",
        "            n,m = temp_wind.shape\n",
        "            windows[a] = temp_wind[:int(n/3),:int(m/2)] # 1\n",
        "            windows[a+1] = temp_wind[:int(n/3),int(m/2):m] # 01\n",
        "            windows[a+2] = temp_wind[int(n/3):int(2*n/3),:int(m/2)] # 00/1\n",
        "            windows[a+3] = temp_wind[int(n/3):int(2*n/3),int(m/2):m] # 00/01\n",
        "            windows[a+4] = temp_wind[int(2*n/3):n,:int(m/2)] # 00/00/1\n",
        "            windows[a+5] = temp_wind[int(2*n/3):n,int(m/2):m] # 00/00/01\n",
        "            a += 6\n",
        "\n",
        "    return windows"
      ]
    },
    {
      "cell_type": "code",
      "source": [],
      "metadata": {
        "id": "bkTFvryQI02j"
      },
      "id": "bkTFvryQI02j",
      "execution_count": null,
      "outputs": []
    },
    {
      "cell_type": "markdown",
      "id": "84834ecb",
      "metadata": {
        "id": "84834ecb"
      },
      "source": [
        "### Euclidean distance calculation\n",
        "To compare the windows that were created earlier with the *dot_left* and *dot_right* images, we will use the Euclidean distance, which calculates the line segment between the two points, and then add all the values."
      ]
    },
    {
      "cell_type": "code",
      "execution_count": null,
      "id": "a707d136",
      "metadata": {
        "id": "a707d136"
      },
      "outputs": [],
      "source": [
        "# Function that calculates Euclidean distance between\n",
        "def Difference(a, b):\n",
        "    np.seterr(all='ignore')\n",
        "    return np.sqrt(np.sum((a-b)**2))"
      ]
    },
    {
      "cell_type": "markdown",
      "id": "2f991416",
      "metadata": {
        "id": "2f991416"
      },
      "source": [
        "### Finding the shortest distance\n",
        "Here, we will build a matrix of size $\\frac{M}{50}$ (number of letters in the image) by $6$. Each row will represent a letter present in our image, and each column a dot. If the position is $0$, that window does not have a dot, if the position has the value $1$, a dot has been identified. The representation of each point is carried out as follows:"
      ]
    },
    {
      "cell_type": "code",
      "execution_count": null,
      "id": "8a4d5440",
      "metadata": {
        "id": "8a4d5440"
      },
      "outputs": [],
      "source": [
        "# Function that compares each dot region with left and right dot images, using Euclidean distance. If the result\n",
        "# is lower than 0.0001, we have a dot there, so we gonna say that in this sector the result is 1.\n",
        "# After all six comparisons, the function generates and returns an array showing the regions and their results.\n",
        "def shortestDistance(windows, left, right, M):\n",
        "    min_dist = sys.maxsize\n",
        "    close = -1\n",
        "    text = [[0]*6]\n",
        "\n",
        "    # calculating the distances and finding the closest window\n",
        "    a = 0\n",
        "    for y in range (int(M/50)):\n",
        "        letter_value = np.zeros((1,6), dtype=np.int8)\n",
        "        for i in range(6):\n",
        "            if Difference(left, windows[a+i]) <= 0.0001 or Difference(right, windows[a+i]) <= 0.0001:\n",
        "                letter_value[0][i] = 1\n",
        "\n",
        "        text = np.append(text, letter_value, axis=0)\n",
        "        a += 6\n",
        "\n",
        "    return text"
      ]
    },
    {
      "cell_type": "code",
      "execution_count": null,
      "id": "a8f54845",
      "metadata": {
        "scrolled": true,
        "id": "a8f54845",
        "colab": {
          "base_uri": "https://localhost:8080/"
        },
        "outputId": "c5511d40-2508-4ed0-ff38-1afe016f5dde"
      },
      "outputs": [
        {
          "output_type": "stream",
          "name": "stdout",
          "text": [
            "Dot representation matrix:\n",
            "[[1 1 0 1 1 0]\n",
            " [1 0 0 0 1 1]\n",
            " [1 1 0 1 1 0]\n",
            " [0 1 1 0 0 0]\n",
            " [1 0 1 0 1 0]\n",
            " [0 0 0 0 0 0]\n",
            " [1 1 1 0 0 0]\n",
            " [1 0 0 0 1 1]\n",
            " [1 1 0 0 1 0]\n",
            " [1 0 0 0 0 0]\n",
            " [1 0 1 1 1 0]\n",
            " [0 0 0 0 0 0]\n",
            " [1 1 0 1 1 0]\n",
            " [0 1 1 0 0 0]\n",
            " [1 0 1 1 1 0]]\n"
          ]
        }
      ],
      "source": [
        "# Let's check with the word that you choose!\n",
        "# With output in this cell, we have the array where each line shows the word representation.\n",
        "M, N = img.shape\n",
        "\n",
        "windows = letter_representation(img, 1)\n",
        "text_value = shortestDistance(windows, dot_left, dot_right, N)[1:]\n",
        "print(\"Dot representation matrix:\")\n",
        "print(text_value)"
      ]
    },
    {
      "cell_type": "markdown",
      "id": "f6959d6f",
      "metadata": {
        "id": "f6959d6f"
      },
      "source": [
        "### Generating the dictionary\n",
        "Using the same logic as before, here we generate a 6-position vector for each letter of the alphabet, so that we can identify in the *text_value* matrix calculated above, which letter each vector represents."
      ]
    },
    {
      "cell_type": "code",
      "execution_count": null,
      "id": "cf06cd6c",
      "metadata": {
        "id": "cf06cd6c",
        "colab": {
          "base_uri": "https://localhost:8080/",
          "height": 411
        },
        "outputId": "9409e97c-d91b-49cf-9a46-50bbbc3c92a9"
      },
      "outputs": [
        {
          "output_type": "stream",
          "name": "stderr",
          "text": [
            "<ipython-input-28-14103f76e837>:12: DeprecationWarning: Starting with ImageIO v3 the behavior of this function will switch to that of iio.v3.imread. To keep the current behavior (and make this warning disappear) use `import imageio.v2 as imageio` or call `imageio.v2.imread` directly.\n",
            "  temp_img = imageio.imread(temp)\n"
          ]
        },
        {
          "output_type": "error",
          "ename": "FileNotFoundError",
          "evalue": "No such file: '/content/dictionary/a.png'",
          "traceback": [
            "\u001b[0;31m---------------------------------------------------------------------------\u001b[0m",
            "\u001b[0;31mFileNotFoundError\u001b[0m                         Traceback (most recent call last)",
            "\u001b[0;32m<ipython-input-28-14103f76e837>\u001b[0m in \u001b[0;36m<cell line: 11>\u001b[0;34m()\u001b[0m\n\u001b[1;32m     10\u001b[0m \u001b[0;34m\u001b[0m\u001b[0m\n\u001b[1;32m     11\u001b[0m \u001b[0;32mfor\u001b[0m \u001b[0mtemp\u001b[0m \u001b[0;32min\u001b[0m \u001b[0malphabet\u001b[0m\u001b[0;34m:\u001b[0m\u001b[0;34m\u001b[0m\u001b[0;34m\u001b[0m\u001b[0m\n\u001b[0;32m---> 12\u001b[0;31m     \u001b[0mtemp_img\u001b[0m \u001b[0;34m=\u001b[0m \u001b[0mimageio\u001b[0m\u001b[0;34m.\u001b[0m\u001b[0mimread\u001b[0m\u001b[0;34m(\u001b[0m\u001b[0mtemp\u001b[0m\u001b[0;34m)\u001b[0m\u001b[0;34m\u001b[0m\u001b[0;34m\u001b[0m\u001b[0m\n\u001b[0m\u001b[1;32m     13\u001b[0m     \u001b[0mtemp_img\u001b[0m \u001b[0;34m=\u001b[0m \u001b[0mapplying_filters\u001b[0m\u001b[0;34m(\u001b[0m\u001b[0mtemp_img\u001b[0m\u001b[0;34m,\u001b[0m \u001b[0;36m1\u001b[0m\u001b[0;34m)\u001b[0m\u001b[0;34m\u001b[0m\u001b[0;34m\u001b[0m\u001b[0m\n\u001b[1;32m     14\u001b[0m     \u001b[0mM\u001b[0m\u001b[0;34m,\u001b[0m \u001b[0mN\u001b[0m \u001b[0;34m=\u001b[0m \u001b[0mtemp_img\u001b[0m\u001b[0;34m.\u001b[0m\u001b[0mshape\u001b[0m\u001b[0;34m\u001b[0m\u001b[0;34m\u001b[0m\u001b[0m\n",
            "\u001b[0;32m/usr/local/lib/python3.10/dist-packages/imageio/__init__.py\u001b[0m in \u001b[0;36mimread\u001b[0;34m(uri, format, **kwargs)\u001b[0m\n\u001b[1;32m     95\u001b[0m     )\n\u001b[1;32m     96\u001b[0m \u001b[0;34m\u001b[0m\u001b[0m\n\u001b[0;32m---> 97\u001b[0;31m     \u001b[0;32mreturn\u001b[0m \u001b[0mimread_v2\u001b[0m\u001b[0;34m(\u001b[0m\u001b[0muri\u001b[0m\u001b[0;34m,\u001b[0m \u001b[0mformat\u001b[0m\u001b[0;34m=\u001b[0m\u001b[0mformat\u001b[0m\u001b[0;34m,\u001b[0m \u001b[0;34m**\u001b[0m\u001b[0mkwargs\u001b[0m\u001b[0;34m)\u001b[0m\u001b[0;34m\u001b[0m\u001b[0;34m\u001b[0m\u001b[0m\n\u001b[0m\u001b[1;32m     98\u001b[0m \u001b[0;34m\u001b[0m\u001b[0m\n\u001b[1;32m     99\u001b[0m \u001b[0;34m\u001b[0m\u001b[0m\n",
            "\u001b[0;32m/usr/local/lib/python3.10/dist-packages/imageio/v2.py\u001b[0m in \u001b[0;36mimread\u001b[0;34m(uri, format, **kwargs)\u001b[0m\n\u001b[1;32m    357\u001b[0m     \u001b[0mimopen_args\u001b[0m\u001b[0;34m[\u001b[0m\u001b[0;34m\"legacy_mode\"\u001b[0m\u001b[0;34m]\u001b[0m \u001b[0;34m=\u001b[0m \u001b[0;32mTrue\u001b[0m\u001b[0;34m\u001b[0m\u001b[0;34m\u001b[0m\u001b[0m\n\u001b[1;32m    358\u001b[0m \u001b[0;34m\u001b[0m\u001b[0m\n\u001b[0;32m--> 359\u001b[0;31m     \u001b[0;32mwith\u001b[0m \u001b[0mimopen\u001b[0m\u001b[0;34m(\u001b[0m\u001b[0muri\u001b[0m\u001b[0;34m,\u001b[0m \u001b[0;34m\"ri\"\u001b[0m\u001b[0;34m,\u001b[0m \u001b[0;34m**\u001b[0m\u001b[0mimopen_args\u001b[0m\u001b[0;34m)\u001b[0m \u001b[0;32mas\u001b[0m \u001b[0mfile\u001b[0m\u001b[0;34m:\u001b[0m\u001b[0;34m\u001b[0m\u001b[0;34m\u001b[0m\u001b[0m\n\u001b[0m\u001b[1;32m    360\u001b[0m         \u001b[0mresult\u001b[0m \u001b[0;34m=\u001b[0m \u001b[0mfile\u001b[0m\u001b[0;34m.\u001b[0m\u001b[0mread\u001b[0m\u001b[0;34m(\u001b[0m\u001b[0mindex\u001b[0m\u001b[0;34m=\u001b[0m\u001b[0;36m0\u001b[0m\u001b[0;34m,\u001b[0m \u001b[0;34m**\u001b[0m\u001b[0mkwargs\u001b[0m\u001b[0;34m)\u001b[0m\u001b[0;34m\u001b[0m\u001b[0;34m\u001b[0m\u001b[0m\n\u001b[1;32m    361\u001b[0m \u001b[0;34m\u001b[0m\u001b[0m\n",
            "\u001b[0;32m/usr/local/lib/python3.10/dist-packages/imageio/core/imopen.py\u001b[0m in \u001b[0;36mimopen\u001b[0;34m(uri, io_mode, plugin, extension, format_hint, legacy_mode, **kwargs)\u001b[0m\n\u001b[1;32m    111\u001b[0m         \u001b[0mrequest\u001b[0m\u001b[0;34m.\u001b[0m\u001b[0mformat_hint\u001b[0m \u001b[0;34m=\u001b[0m \u001b[0mformat_hint\u001b[0m\u001b[0;34m\u001b[0m\u001b[0;34m\u001b[0m\u001b[0m\n\u001b[1;32m    112\u001b[0m     \u001b[0;32melse\u001b[0m\u001b[0;34m:\u001b[0m\u001b[0;34m\u001b[0m\u001b[0;34m\u001b[0m\u001b[0m\n\u001b[0;32m--> 113\u001b[0;31m         \u001b[0mrequest\u001b[0m \u001b[0;34m=\u001b[0m \u001b[0mRequest\u001b[0m\u001b[0;34m(\u001b[0m\u001b[0muri\u001b[0m\u001b[0;34m,\u001b[0m \u001b[0mio_mode\u001b[0m\u001b[0;34m,\u001b[0m \u001b[0mformat_hint\u001b[0m\u001b[0;34m=\u001b[0m\u001b[0mformat_hint\u001b[0m\u001b[0;34m,\u001b[0m \u001b[0mextension\u001b[0m\u001b[0;34m=\u001b[0m\u001b[0mextension\u001b[0m\u001b[0;34m)\u001b[0m\u001b[0;34m\u001b[0m\u001b[0;34m\u001b[0m\u001b[0m\n\u001b[0m\u001b[1;32m    114\u001b[0m \u001b[0;34m\u001b[0m\u001b[0m\n\u001b[1;32m    115\u001b[0m     \u001b[0msource\u001b[0m \u001b[0;34m=\u001b[0m \u001b[0;34m\"<bytes>\"\u001b[0m \u001b[0;32mif\u001b[0m \u001b[0misinstance\u001b[0m\u001b[0;34m(\u001b[0m\u001b[0muri\u001b[0m\u001b[0;34m,\u001b[0m \u001b[0mbytes\u001b[0m\u001b[0;34m)\u001b[0m \u001b[0;32melse\u001b[0m \u001b[0muri\u001b[0m\u001b[0;34m\u001b[0m\u001b[0;34m\u001b[0m\u001b[0m\n",
            "\u001b[0;32m/usr/local/lib/python3.10/dist-packages/imageio/core/request.py\u001b[0m in \u001b[0;36m__init__\u001b[0;34m(self, uri, mode, extension, format_hint, **kwargs)\u001b[0m\n\u001b[1;32m    245\u001b[0m \u001b[0;34m\u001b[0m\u001b[0m\n\u001b[1;32m    246\u001b[0m         \u001b[0;31m# Parse what was given\u001b[0m\u001b[0;34m\u001b[0m\u001b[0;34m\u001b[0m\u001b[0m\n\u001b[0;32m--> 247\u001b[0;31m         \u001b[0mself\u001b[0m\u001b[0;34m.\u001b[0m\u001b[0m_parse_uri\u001b[0m\u001b[0;34m(\u001b[0m\u001b[0muri\u001b[0m\u001b[0;34m)\u001b[0m\u001b[0;34m\u001b[0m\u001b[0;34m\u001b[0m\u001b[0m\n\u001b[0m\u001b[1;32m    248\u001b[0m \u001b[0;34m\u001b[0m\u001b[0m\n\u001b[1;32m    249\u001b[0m         \u001b[0;31m# Set extension\u001b[0m\u001b[0;34m\u001b[0m\u001b[0;34m\u001b[0m\u001b[0m\n",
            "\u001b[0;32m/usr/local/lib/python3.10/dist-packages/imageio/core/request.py\u001b[0m in \u001b[0;36m_parse_uri\u001b[0;34m(self, uri)\u001b[0m\n\u001b[1;32m    405\u001b[0m                 \u001b[0;31m# Reading: check that the file exists (but is allowed a dir)\u001b[0m\u001b[0;34m\u001b[0m\u001b[0;34m\u001b[0m\u001b[0m\n\u001b[1;32m    406\u001b[0m                 \u001b[0;32mif\u001b[0m \u001b[0;32mnot\u001b[0m \u001b[0mos\u001b[0m\u001b[0;34m.\u001b[0m\u001b[0mpath\u001b[0m\u001b[0;34m.\u001b[0m\u001b[0mexists\u001b[0m\u001b[0;34m(\u001b[0m\u001b[0mfn\u001b[0m\u001b[0;34m)\u001b[0m\u001b[0;34m:\u001b[0m\u001b[0;34m\u001b[0m\u001b[0;34m\u001b[0m\u001b[0m\n\u001b[0;32m--> 407\u001b[0;31m                     \u001b[0;32mraise\u001b[0m \u001b[0mFileNotFoundError\u001b[0m\u001b[0;34m(\u001b[0m\u001b[0;34m\"No such file: '%s'\"\u001b[0m \u001b[0;34m%\u001b[0m \u001b[0mfn\u001b[0m\u001b[0;34m)\u001b[0m\u001b[0;34m\u001b[0m\u001b[0;34m\u001b[0m\u001b[0m\n\u001b[0m\u001b[1;32m    408\u001b[0m             \u001b[0;32melse\u001b[0m\u001b[0;34m:\u001b[0m\u001b[0;34m\u001b[0m\u001b[0;34m\u001b[0m\u001b[0m\n\u001b[1;32m    409\u001b[0m                 \u001b[0;31m# Writing: check that the directory to write to does exist\u001b[0m\u001b[0;34m\u001b[0m\u001b[0;34m\u001b[0m\u001b[0m\n",
            "\u001b[0;31mFileNotFoundError\u001b[0m: No such file: '/content/dictionary/a.png'"
          ]
        }
      ],
      "source": [
        "# To compare our array, we need to do the same with the dictionary\n",
        "dic = {}\n",
        "alphabet = ['dictionary/a.png', 'dictionary/b.png', 'dictionary/c.png', 'dictionary/d.png', 'dictionary/e.png',\n",
        "            'dictionary/f.png', 'dictionary/g.png', 'dictionary/h.png', 'dictionary/i.png', 'dictionary/j.png',\n",
        "            'dictionary/k.png', 'dictionary/l.png', 'dictionary/m.png', 'dictionary/n.png', 'dictionary/o.png',\n",
        "            'dictionary/p.png', 'dictionary/q.png', 'dictionary/r.png', 'dictionary/s.png', 'dictionary/t.png',\n",
        "            'dictionary/u.png', 'dictionary/v.png', 'dictionary/w.png', 'dictionary/x.png', 'dictionary/y.png',\n",
        "            'dictionary/z.png'\n",
        "           ]\n",
        "\n",
        "for temp in alphabet:\n",
        "    temp_img = imageio.imread(temp)\n",
        "    temp_img = applying_filters(temp_img, 1)\n",
        "    M, N = temp_img.shape\n",
        "    temp_img = letter_representation(temp_img, 1)\n",
        "    dic[temp[11]] = list(shortestDistance(temp_img, dot_left, dot_right, M)[1])\n",
        "dic[' '] = [0,0,0,0,0,0]\n",
        "\n",
        "print(dic)"
      ]
    },
    {
      "cell_type": "markdown",
      "id": "0b800d00",
      "metadata": {
        "id": "0b800d00"
      },
      "source": [
        "### Final Result\n",
        "Finally, with the vector and dictionary calculated, simply relate them to generate the final text."
      ]
    },
    {
      "cell_type": "code",
      "execution_count": null,
      "id": "2401cb57",
      "metadata": {
        "id": "2401cb57"
      },
      "outputs": [],
      "source": [
        "# Lastly, we search for each letter representation in dictionary and generates the final text\n",
        "final_text = \"\"\n",
        "for i in range(text_value.shape[0]):\n",
        "    for key, values in dic.items():\n",
        "        if(list(text_value[i]) == list(values)):\n",
        "            final_text += key\n",
        "\n",
        "print(\"Translated text:\", final_text)"
      ]
    },
    {
      "cell_type": "code",
      "source": [],
      "metadata": {
        "id": "dgq1bv71UKT9"
      },
      "id": "dgq1bv71UKT9",
      "execution_count": null,
      "outputs": []
    }
  ],
  "metadata": {
    "kernelspec": {
      "display_name": "Python 3",
      "language": "python",
      "name": "python3"
    },
    "language_info": {
      "codemirror_mode": {
        "name": "ipython",
        "version": 3
      },
      "file_extension": ".py",
      "mimetype": "text/x-python",
      "name": "python",
      "nbconvert_exporter": "python",
      "pygments_lexer": "ipython3",
      "version": "3.6.9"
    },
    "colab": {
      "provenance": []
    }
  },
  "nbformat": 4,
  "nbformat_minor": 5
}